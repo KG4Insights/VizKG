{
 "cells": [
  {
   "cell_type": "code",
   "execution_count": 2,
   "id": "49f2f0c3",
   "metadata": {},
   "outputs": [],
   "source": [
    "import numpy as np\n",
    "from scipy import stats\n",
    "import pandas as pd\n",
    "import json"
   ]
  },
  {
   "cell_type": "code",
   "execution_count": 137,
   "id": "c301eb19",
   "metadata": {},
   "outputs": [
    {
     "data": {
      "text/plain": [
       "array(['hola', 'bebe', 'comoffffffffffffffffffffffffffffffffffffffff',\n",
       "       '1', '2', '2', '2', '2', '2', '2', '2', '2', '2'], dtype=object)"
      ]
     },
     "execution_count": 137,
     "metadata": {},
     "output_type": "execute_result"
    }
   ],
   "source": [
    "a = ['hola', 'bebe', 'comoffffffffffffffffffffffffffffffffffffffff', 1, 2,2,2,2, None, None, None, None, None]\n",
    "b = convert_to_string(a)\n",
    "fill_string_array(b)"
   ]
  },
  {
   "cell_type": "code",
   "execution_count": 136,
   "id": "cffb23ab",
   "metadata": {},
   "outputs": [],
   "source": [
    "isnone = np.vectorize(lambda x : x is None)\n",
    "tostring = np.vectorize(lambda x : str(x) if x is not None or x != '' else None, otypes=['object'])\n",
    "\n",
    "def convert_to_string(v):\n",
    "    v = [None if x is None or x == '' else str(x) for x in v]\n",
    "    return np.array(v, dtype='O')\n",
    "\n",
    "def fill_string_array(v):\n",
    "    none_index = isnone(v)\n",
    "    non_none = v[~none_index]\n",
    "    mode = stats.mode(non_none).mode[0]\n",
    "    v[none_index] = mode\n",
    "    return v"
   ]
  },
  {
   "cell_type": "code",
   "execution_count": 5,
   "id": "2630db55",
   "metadata": {},
   "outputs": [
    {
     "data": {
      "text/plain": [
       "[1.0, 2.0, 3.0, 2.0, 2.0, 2.0, 2.0, 2.0]"
      ]
     },
     "execution_count": 5,
     "metadata": {},
     "output_type": "execute_result"
    }
   ],
   "source": [
    "a = [1,2,3, np.nan, np.nan, np.inf, np.inf, float('inf')]\n",
    "b = np.array(a)\n",
    "\n",
    "nan_index = np.isnan(b)\n",
    "inf_index = np.isinf(b)\n",
    "nan_inf_index = nan_index | inf_index\n",
    "mean = np.mean(b[~nan_inf_index])\n",
    "b[nan_inf_index] = mean\n",
    "b.tolist()"
   ]
  },
  {
   "cell_type": "code",
   "execution_count": 4,
   "id": "1e051f28",
   "metadata": {},
   "outputs": [
    {
     "ename": "TypeError",
     "evalue": "int() argument must be a string, a bytes-like object or a real number, not 'NoneType'",
     "output_type": "error",
     "traceback": [
      "\u001b[0;31m---------------------------------------------------------------------------\u001b[0m",
      "\u001b[0;31mTypeError\u001b[0m                                 Traceback (most recent call last)",
      "Input \u001b[0;32mIn [4]\u001b[0m, in \u001b[0;36m<cell line: 2>\u001b[0;34m()\u001b[0m\n\u001b[1;32m      1\u001b[0m c \u001b[38;5;241m=\u001b[39m [\u001b[38;5;241m1\u001b[39m,\u001b[38;5;241m2\u001b[39m,\u001b[38;5;241m3\u001b[39m, \u001b[38;5;28;01mNone\u001b[39;00m]\n\u001b[0;32m----> 2\u001b[0m \u001b[43mnp\u001b[49m\u001b[38;5;241;43m.\u001b[39;49m\u001b[43marray\u001b[49m\u001b[43m(\u001b[49m\u001b[43mc\u001b[49m\u001b[43m,\u001b[49m\u001b[43m \u001b[49m\u001b[43mdtype\u001b[49m\u001b[38;5;241;43m=\u001b[39;49m\u001b[38;5;124;43m'\u001b[39;49m\u001b[38;5;124;43mint\u001b[39;49m\u001b[38;5;124;43m'\u001b[39;49m\u001b[43m)\u001b[49m\n",
      "\u001b[0;31mTypeError\u001b[0m: int() argument must be a string, a bytes-like object or a real number, not 'NoneType'"
     ]
    }
   ],
   "source": []
  },
  {
   "cell_type": "code",
   "execution_count": null,
   "id": "89633de7",
   "metadata": {},
   "outputs": [],
   "source": [
    "a = [d]"
   ]
  }
 ],
 "metadata": {
  "kernelspec": {
   "display_name": "Python 3 (ipykernel)",
   "language": "python",
   "name": "python3"
  },
  "language_info": {
   "codemirror_mode": {
    "name": "ipython",
    "version": 3
   },
   "file_extension": ".py",
   "mimetype": "text/x-python",
   "name": "python",
   "nbconvert_exporter": "python",
   "pygments_lexer": "ipython3",
   "version": "3.10.5"
  }
 },
 "nbformat": 4,
 "nbformat_minor": 5
}
